{
  "nbformat": 4,
  "nbformat_minor": 0,
  "metadata": {
    "colab": {
      "name": "stat556_proj_calculation.ipynb",
      "provenance": [],
      "collapsed_sections": []
    },
    "kernelspec": {
      "name": "python3",
      "display_name": "Python 3"
    },
    "language_info": {
      "name": "python"
    }
  },
  "cells": [
    {
      "cell_type": "code",
      "execution_count": null,
      "metadata": {
        "colab": {
          "base_uri": "https://localhost:8080/"
        },
        "id": "3C2EXE8P0jEy",
        "outputId": "3caff1c0-489d-4ada-8fda-011268762098"
      },
      "outputs": [
        {
          "output_type": "stream",
          "name": "stdout",
          "text": [
            "0.8801597883597884\n"
          ]
        }
      ],
      "source": [
        "tp=0.0421 #skab=0.367, smd=0.0421 (Borrowed from MVTS paper)\n",
        "pr=0.875\n",
        "re=0.270\n",
        "fp=(tp*(1-pr))/pr\n",
        "fn=(tp*(1-re))/re\n",
        "ac=1-fp-fn\n",
        "print(ac)"
      ]
    },
    {
      "cell_type": "code",
      "source": [
        ""
      ],
      "metadata": {
        "id": "Z0w7-2ea0_Jc"
      },
      "execution_count": null,
      "outputs": []
    }
  ]
}